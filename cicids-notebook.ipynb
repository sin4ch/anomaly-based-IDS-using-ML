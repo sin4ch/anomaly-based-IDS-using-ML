{
 "cells": [
  {
   "cell_type": "markdown",
   "id": "68d7bf2c",
   "metadata": {
    "papermill": {
     "duration": 0.006716,
     "end_time": "2024-01-22T12:12:15.611135",
     "exception": false,
     "start_time": "2024-01-22T12:12:15.604419",
     "status": "completed"
    },
    "tags": []
   },
   "source": [
    "# Data Loading"
   ]
  },
  {
   "cell_type": "code",
   "execution_count": 1,
   "id": "4d0578e3",
   "metadata": {
    "_cell_guid": "b1076dfc-b9ad-4769-8c92-a6c4dae69d19",
    "_uuid": "8f2839f25d086af736a60e9eeb907d3b93b6e0e5",
    "execution": {
     "iopub.execute_input": "2024-01-22T12:12:15.625580Z",
     "iopub.status.busy": "2024-01-22T12:12:15.625174Z",
     "iopub.status.idle": "2024-01-22T12:12:18.041971Z",
     "shell.execute_reply": "2024-01-22T12:12:18.040723Z"
    },
    "papermill": {
     "duration": 2.427546,
     "end_time": "2024-01-22T12:12:18.045066",
     "exception": false,
     "start_time": "2024-01-22T12:12:15.617520",
     "status": "completed"
    },
    "tags": []
   },
   "outputs": [
    {
     "name": "stdout",
     "output_type": "stream",
     "text": [
      "/kaggle/input/cicids2017/MachineLearningCSV.md5\n",
      "/kaggle/input/cicids2017/MachineLearningCSV/MachineLearningCVE/Friday-WorkingHours-Afternoon-PortScan.pcap_ISCX.csv\n",
      "/kaggle/input/cicids2017/MachineLearningCSV/MachineLearningCVE/Thursday-WorkingHours-Morning-WebAttacks.pcap_ISCX.csv\n",
      "/kaggle/input/cicids2017/MachineLearningCSV/MachineLearningCVE/Tuesday-WorkingHours.pcap_ISCX.csv\n",
      "/kaggle/input/cicids2017/MachineLearningCSV/MachineLearningCVE/Friday-WorkingHours-Afternoon-DDos.pcap_ISCX.csv\n",
      "/kaggle/input/cicids2017/MachineLearningCSV/MachineLearningCVE/Monday-WorkingHours.pcap_ISCX.csv\n",
      "/kaggle/input/cicids2017/MachineLearningCSV/MachineLearningCVE/Friday-WorkingHours-Morning.pcap_ISCX.csv\n",
      "/kaggle/input/cicids2017/MachineLearningCSV/MachineLearningCVE/Thursday-WorkingHours-Afternoon-Infilteration.pcap_ISCX.csv\n",
      "/kaggle/input/cicids2017/MachineLearningCSV/MachineLearningCVE/Wednesday-workingHours.pcap_ISCX.csv\n"
     ]
    }
   ],
   "source": [
    "import numpy as np \n",
    "import pandas as pd\n",
    "pd.set_option('display.max_columns', None)\n",
    "pd.set_option('display.max_rows', 80)\n",
    "\n",
    "from sklearn.preprocessing import LabelEncoder\n",
    "from sklearn.preprocessing import StandardScaler\n",
    "from sklearn.model_selection import train_test_split\n",
    "\n",
    "from sklearn.neighbors import KNeighborsClassifier\n",
    "from sklearn.tree import DecisionTreeClassifier\n",
    "from sklearn.ensemble import RandomForestClassifier\n",
    "\n",
    "from sklearn.metrics import accuracy_score\n",
    "\n",
    "import time\n",
    "\n",
    "import os\n",
    "for dirname, _, filenames in os.walk('/kaggle/input'):\n",
    "    for filename in filenames:\n",
    "        print(os.path.join(dirname, filename))"
   ]
  },
  {
   "cell_type": "code",
   "execution_count": 2,
   "id": "4bcc5d27",
   "metadata": {
    "execution": {
     "iopub.execute_input": "2024-01-22T12:12:18.062022Z",
     "iopub.status.busy": "2024-01-22T12:12:18.060632Z",
     "iopub.status.idle": "2024-01-22T12:12:53.066320Z",
     "shell.execute_reply": "2024-01-22T12:12:53.064859Z"
    },
    "papermill": {
     "duration": 35.017047,
     "end_time": "2024-01-22T12:12:53.069323",
     "exception": false,
     "start_time": "2024-01-22T12:12:18.052276",
     "status": "completed"
    },
    "tags": []
   },
   "outputs": [],
   "source": [
    "df_1 = pd.read_csv('/kaggle/input/cicids2017/MachineLearningCSV/MachineLearningCVE/Friday-WorkingHours-Afternoon-DDos.pcap_ISCX.csv')\n",
    "df_2 = pd.read_csv('/kaggle/input/cicids2017/MachineLearningCSV/MachineLearningCVE/Friday-WorkingHours-Afternoon-PortScan.pcap_ISCX.csv')\n",
    "df_3 = pd.read_csv('/kaggle/input/cicids2017/MachineLearningCSV/MachineLearningCVE/Friday-WorkingHours-Morning.pcap_ISCX.csv')\n",
    "df_4 = pd.read_csv('/kaggle/input/cicids2017/MachineLearningCSV/MachineLearningCVE/Monday-WorkingHours.pcap_ISCX.csv')\n",
    "df_5 = pd.read_csv('/kaggle/input/cicids2017/MachineLearningCSV/MachineLearningCVE/Thursday-WorkingHours-Afternoon-Infilteration.pcap_ISCX.csv')\n",
    "df_6 = pd.read_csv('/kaggle/input/cicids2017/MachineLearningCSV/MachineLearningCVE/Thursday-WorkingHours-Morning-WebAttacks.pcap_ISCX.csv')\n",
    "df_7 = pd.read_csv('/kaggle/input/cicids2017/MachineLearningCSV/MachineLearningCVE/Tuesday-WorkingHours.pcap_ISCX.csv')\n",
    "df_8 = pd.read_csv('/kaggle/input/cicids2017/MachineLearningCSV/MachineLearningCVE/Wednesday-workingHours.pcap_ISCX.csv')"
   ]
  },
  {
   "cell_type": "markdown",
   "id": "528d3458",
   "metadata": {
    "papermill": {
     "duration": 0.006313,
     "end_time": "2024-01-22T12:12:53.081984",
     "exception": false,
     "start_time": "2024-01-22T12:12:53.075671",
     "status": "completed"
    },
    "tags": []
   },
   "source": [
    "# 1.0 Data Preprocessing"
   ]
  },
  {
   "cell_type": "code",
   "execution_count": 3,
   "id": "c6827371",
   "metadata": {
    "execution": {
     "iopub.execute_input": "2024-01-22T12:12:53.096630Z",
     "iopub.status.busy": "2024-01-22T12:12:53.096225Z",
     "iopub.status.idle": "2024-01-22T12:12:53.102624Z",
     "shell.execute_reply": "2024-01-22T12:12:53.101313Z"
    },
    "papermill": {
     "duration": 0.017585,
     "end_time": "2024-01-22T12:12:53.105838",
     "exception": false,
     "start_time": "2024-01-22T12:12:53.088253",
     "status": "completed"
    },
    "tags": []
   },
   "outputs": [
    {
     "name": "stdout",
     "output_type": "stream",
     "text": [
      "df_1: (225745, 79)\n",
      "df_2: (286467, 79)\n",
      "df_3: (191033, 79)\n",
      "df_4: (529918, 79)\n",
      "df_5: (288602, 79)\n",
      "df_6: (170366, 79)\n",
      "df_7: (445909, 79)\n",
      "df_8: (692703, 79)\n"
     ]
    }
   ],
   "source": [
    "# get shapes of each dataframe's\n",
    "for i in range(1, 9):\n",
    "    df_name = f'df_{i}'\n",
    "    current_df = globals()[df_name]\n",
    "    print(f\"{df_name}: {current_df.shape}\")"
   ]
  },
  {
   "cell_type": "markdown",
   "id": "56ec666f",
   "metadata": {
    "papermill": {
     "duration": 0.00593,
     "end_time": "2024-01-22T12:12:53.118102",
     "exception": false,
     "start_time": "2024-01-22T12:12:53.112172",
     "status": "completed"
    },
    "tags": []
   },
   "source": [
    "## 1.1 Data Concatenation, dropping of duplicated rows and features with constant values"
   ]
  },
  {
   "cell_type": "code",
   "execution_count": 4,
   "id": "f24f35ae",
   "metadata": {
    "execution": {
     "iopub.execute_input": "2024-01-22T12:12:53.132563Z",
     "iopub.status.busy": "2024-01-22T12:12:53.132190Z",
     "iopub.status.idle": "2024-01-22T12:13:20.920628Z",
     "shell.execute_reply": "2024-01-22T12:13:20.917331Z"
    },
    "papermill": {
     "duration": 27.801715,
     "end_time": "2024-01-22T12:13:20.926122",
     "exception": false,
     "start_time": "2024-01-22T12:12:53.124407",
     "status": "completed"
    },
    "tags": []
   },
   "outputs": [
    {
     "data": {
      "text/plain": [
       "(2830731, 72)"
      ]
     },
     "execution_count": 4,
     "metadata": {},
     "output_type": "execute_result"
    }
   ],
   "source": [
    "# Concatenates all data frames\n",
    "main_df = pd.concat([df_1, df_2, df_3, df_4, df_5, df_6, df_7, df_8])\n",
    "main_df = main_df.reset_index()\n",
    "\n",
    "\n",
    "# Drop duplicates: same observation but multiple occurences\n",
    "main_df_1 = main_df.drop_duplicates(keep='first')\n",
    "\n",
    "\n",
    "# Drop columns that have just one unique value, the model wont learn form columns like this.\n",
    "one_value = main_df_1.columns[main_df_1.nunique() == 1]\n",
    "main_df_2 = main_df_1.drop(columns = one_value, axis=1)\n",
    "\n",
    "\n",
    "# Fill nan values\n",
    "main_df_2['Flow Bytes/s'] = main_df_2['Flow Bytes/s'].fillna(main_df_2['Flow Bytes/s'].mean())\n",
    "\n",
    "\n",
    "# Remove leading space character in all feature names\n",
    "main_df_2.rename(columns=lambda x: x.lstrip(), inplace=True)\n",
    "\n",
    "\n",
    "main_df_2.shape"
   ]
  },
  {
   "cell_type": "code",
   "execution_count": 5,
   "id": "b7b887f6",
   "metadata": {
    "execution": {
     "iopub.execute_input": "2024-01-22T12:13:20.951204Z",
     "iopub.status.busy": "2024-01-22T12:13:20.950734Z",
     "iopub.status.idle": "2024-01-22T12:13:21.484350Z",
     "shell.execute_reply": "2024-01-22T12:13:21.483110Z"
    },
    "papermill": {
     "duration": 0.549574,
     "end_time": "2024-01-22T12:13:21.487098",
     "exception": false,
     "start_time": "2024-01-22T12:13:20.937524",
     "status": "completed"
    },
    "tags": []
   },
   "outputs": [
    {
     "data": {
      "text/plain": [
       "0"
      ]
     },
     "execution_count": 5,
     "metadata": {},
     "output_type": "execute_result"
    }
   ],
   "source": [
    "# Checking numbers of missing values on the df\n",
    "main_df_2.isna().sum().sum()"
   ]
  },
  {
   "cell_type": "markdown",
   "id": "addee024",
   "metadata": {
    "papermill": {
     "duration": 0.006739,
     "end_time": "2024-01-22T12:13:21.500825",
     "exception": false,
     "start_time": "2024-01-22T12:13:21.494086",
     "status": "completed"
    },
    "tags": []
   },
   "source": [
    "# 1.2 Extract subsample of data\n",
    "Getting a subsample of the data, while taking every unique values in the Label(Target) column into consideration."
   ]
  },
  {
   "cell_type": "code",
   "execution_count": 6,
   "id": "09d78d11",
   "metadata": {
    "execution": {
     "iopub.execute_input": "2024-01-22T12:13:21.516110Z",
     "iopub.status.busy": "2024-01-22T12:13:21.515701Z",
     "iopub.status.idle": "2024-01-22T12:13:29.619724Z",
     "shell.execute_reply": "2024-01-22T12:13:29.618655Z"
    },
    "papermill": {
     "duration": 8.1149,
     "end_time": "2024-01-22T12:13:29.622414",
     "exception": false,
     "start_time": "2024-01-22T12:13:21.507514",
     "status": "completed"
    },
    "tags": []
   },
   "outputs": [
    {
     "data": {
      "text/plain": [
       "(47227, 72)"
      ]
     },
     "execution_count": 6,
     "metadata": {},
     "output_type": "execute_result"
    }
   ],
   "source": [
    "# Get sub sample of the dataframe, so as to reduce computation time.\n",
    "\n",
    "\n",
    "# Sort Label target to unique values\n",
    "heartbleed = main_df_2[main_df_2['Label'] == 'Heartbleed']\n",
    "Web_Attack_Sql_Injection = main_df_2[main_df_2['Label'] == 'Web Attack � Sql Injection']\n",
    "Infiltration = main_df_2[main_df_2['Label'] == 'Infiltration']\n",
    "Web_Attack_XSS = main_df_2[main_df_2['Label'] == 'Web Attack � XSS']\n",
    "Web_Attack_Brute_Force = main_df_2[main_df_2['Label'] == 'Web Attack � Brute Force']\n",
    "bot = main_df_2[main_df_2['Label'] == 'bot']\n",
    "DoS_Slowhttptest = main_df_2[main_df_2['Label'] == 'DoS Slowhttptest']\n",
    "DoS_slowloris = main_df_2[main_df_2['Label'] == 'DoS slowloris']\n",
    "SSH_Patator = main_df_2[main_df_2['Label'] == 'SSH-Patator']\n",
    "FTP_Patator = main_df_2[main_df_2['Label'] == 'FTP-Patator']\n",
    "DoS_GoldenEye = main_df_2[main_df_2['Label'] == 'DoS GoldenEye']\n",
    "DDoS = main_df_2[main_df_2['Label'] == 'DDoS']\n",
    "PortScan = main_df_2[main_df_2['Label'] == 'PortScan']\n",
    "DoS_Hulk = main_df_2[main_df_2['Label'] == 'DoS Hulk']\n",
    "BENIGN = main_df_2[main_df_2['Label'] == 'BENIGN']\n",
    "\n",
    "\n",
    "# extracting 5000 rows of data, from features/columns with over 5000 observations.\n",
    "DoS_Slowhttptest_sample = DoS_Slowhttptest.sample(n=5000)\n",
    "DoS_slowloris_sample = DoS_slowloris.sample(n=5000)\n",
    "SSH_Patator_sample = SSH_Patator.sample(n=5000)\n",
    "FTP_Patator_sample = FTP_Patator.sample(n=5000)\n",
    "DoS_GoldenEye_sample = DoS_GoldenEye.sample(n=5000)\n",
    "DDoS_sample = DDoS.sample(n=5000)\n",
    "PortScan_sample = PortScan.sample(n=5000)\n",
    "DoS_Hulk_sample = DoS_Hulk.sample(n=5000)\n",
    "BENIGN_sample = BENIGN.sample(n=5000)\n",
    "\n",
    "\n",
    "# Concate sub sample observations to a dataframe\n",
    "sample_df = pd.concat([heartbleed, Web_Attack_Sql_Injection, Infiltration, Web_Attack_XSS, Web_Attack_Brute_Force, \n",
    "                       bot, DoS_Slowhttptest_sample, DoS_slowloris_sample, SSH_Patator_sample, FTP_Patator_sample, \n",
    "                       DoS_GoldenEye_sample, DDoS_sample, PortScan_sample, DoS_Hulk_sample, BENIGN_sample])\n",
    "sample_df.shape"
   ]
  },
  {
   "cell_type": "markdown",
   "id": "f3b51ce1",
   "metadata": {
    "papermill": {
     "duration": 0.006418,
     "end_time": "2024-01-22T12:13:29.635683",
     "exception": false,
     "start_time": "2024-01-22T12:13:29.629265",
     "status": "completed"
    },
    "tags": []
   },
   "source": [
    "## 1.3 Label Encoder and Data Scaling"
   ]
  },
  {
   "cell_type": "code",
   "execution_count": 7,
   "id": "c908d4b4",
   "metadata": {
    "execution": {
     "iopub.execute_input": "2024-01-22T12:13:29.651042Z",
     "iopub.status.busy": "2024-01-22T12:13:29.650611Z",
     "iopub.status.idle": "2024-01-22T12:13:29.721818Z",
     "shell.execute_reply": "2024-01-22T12:13:29.720305Z"
    },
    "papermill": {
     "duration": 0.0821,
     "end_time": "2024-01-22T12:13:29.724495",
     "exception": false,
     "start_time": "2024-01-22T12:13:29.642395",
     "status": "completed"
    },
    "tags": []
   },
   "outputs": [],
   "source": [
    "sample_df_1 = sample_df.copy()\n",
    "\n",
    "\n",
    "le = LabelEncoder()\n",
    "sample_df_1['Label'] = le.fit_transform(sample_df_1['Label'])"
   ]
  },
  {
   "cell_type": "markdown",
   "id": "4378b14b",
   "metadata": {
    "papermill": {
     "duration": 0.006519,
     "end_time": "2024-01-22T12:13:29.737895",
     "exception": false,
     "start_time": "2024-01-22T12:13:29.731376",
     "status": "completed"
    },
    "tags": []
   },
   "source": [
    "# Data Spliting"
   ]
  },
  {
   "cell_type": "code",
   "execution_count": 8,
   "id": "e8423df3",
   "metadata": {
    "execution": {
     "iopub.execute_input": "2024-01-22T12:13:29.753569Z",
     "iopub.status.busy": "2024-01-22T12:13:29.753124Z",
     "iopub.status.idle": "2024-01-22T12:13:29.854304Z",
     "shell.execute_reply": "2024-01-22T12:13:29.852977Z"
    },
    "papermill": {
     "duration": 0.11263,
     "end_time": "2024-01-22T12:13:29.857320",
     "exception": false,
     "start_time": "2024-01-22T12:13:29.744690",
     "status": "completed"
    },
    "tags": []
   },
   "outputs": [
    {
     "name": "stdout",
     "output_type": "stream",
     "text": [
      "Training set shape: (34002, 69)\n",
      "Validation set shape: (3779, 69)\n",
      "Testing set shape: (9446, 69)\n"
     ]
    }
   ],
   "source": [
    "X = sample_df_1.drop(columns=['Label', 'Flow Packets/s', 'Flow Bytes/s'], axis=1)\n",
    "y = sample_df_1['Label']\n",
    "\n",
    "# Initial train test split set\n",
    "X_train, X_test, y_train, y_test = train_test_split(X, y, test_size=0.2, random_state=42, stratify=y)\n",
    "\n",
    "# Further split training set into training (70%) and validation (10%) sets\n",
    "X_train, X_val, y_train, y_val = train_test_split(X_train, y_train, test_size=0.1, random_state=42, stratify=y_train)\n",
    "\n",
    "# Display the shapes of the resulting sets\n",
    "print(\"Training set shape:\", X_train.shape)\n",
    "print(\"Validation set shape:\", X_val.shape)\n",
    "print(\"Testing set shape:\", X_test.shape)"
   ]
  },
  {
   "cell_type": "code",
   "execution_count": 9,
   "id": "f0f01cbc",
   "metadata": {
    "execution": {
     "iopub.execute_input": "2024-01-22T12:13:29.873154Z",
     "iopub.status.busy": "2024-01-22T12:13:29.872713Z",
     "iopub.status.idle": "2024-01-22T12:13:31.974538Z",
     "shell.execute_reply": "2024-01-22T12:13:31.973318Z"
    },
    "papermill": {
     "duration": 2.11298,
     "end_time": "2024-01-22T12:13:31.977278",
     "exception": false,
     "start_time": "2024-01-22T12:13:29.864298",
     "status": "completed"
    },
    "tags": []
   },
   "outputs": [
    {
     "name": "stdout",
     "output_type": "stream",
     "text": [
      "CPU times: user 5.74 s, sys: 26.4 ms, total: 5.77 s\n",
      "Wall time: 2.09 s\n"
     ]
    },
    {
     "data": {
      "text/plain": [
       "0.9616769002752488"
      ]
     },
     "execution_count": 9,
     "metadata": {},
     "output_type": "execute_result"
    }
   ],
   "source": [
    "%%time\n",
    "knn = KNeighborsClassifier()\n",
    "knn.fit(X_train, y_train)\n",
    "knn_y_pred = knn.predict(X_test)\n",
    "accuracy_score(y_test, knn_y_pred)"
   ]
  },
  {
   "cell_type": "code",
   "execution_count": 10,
   "id": "4d145fb1",
   "metadata": {
    "execution": {
     "iopub.execute_input": "2024-01-22T12:13:31.993771Z",
     "iopub.status.busy": "2024-01-22T12:13:31.993338Z",
     "iopub.status.idle": "2024-01-22T12:13:35.689888Z",
     "shell.execute_reply": "2024-01-22T12:13:35.688407Z"
    },
    "papermill": {
     "duration": 3.708603,
     "end_time": "2024-01-22T12:13:35.693377",
     "exception": false,
     "start_time": "2024-01-22T12:13:31.984774",
     "status": "completed"
    },
    "tags": []
   },
   "outputs": [
    {
     "name": "stdout",
     "output_type": "stream",
     "text": [
      "CPU times: user 7.23 s, sys: 8.7 ms, total: 7.24 s\n",
      "Wall time: 3.69 s\n"
     ]
    },
    {
     "data": {
      "text/plain": [
       "0.9616769002752488"
      ]
     },
     "execution_count": 10,
     "metadata": {},
     "output_type": "execute_result"
    }
   ],
   "source": [
    "%%time\n",
    "dt = DecisionTreeClassifier()\n",
    "dt.fit(X_train, y_train)\n",
    "dt_y_pred = knn.predict(X_test)\n",
    "accuracy_score(y_test, dt_y_pred)"
   ]
  },
  {
   "cell_type": "code",
   "execution_count": 11,
   "id": "5d11b4fd",
   "metadata": {
    "execution": {
     "iopub.execute_input": "2024-01-22T12:13:35.711265Z",
     "iopub.status.busy": "2024-01-22T12:13:35.710817Z",
     "iopub.status.idle": "2024-01-22T12:13:44.359268Z",
     "shell.execute_reply": "2024-01-22T12:13:44.357957Z"
    },
    "papermill": {
     "duration": 8.660313,
     "end_time": "2024-01-22T12:13:44.361935",
     "exception": false,
     "start_time": "2024-01-22T12:13:35.701622",
     "status": "completed"
    },
    "tags": []
   },
   "outputs": [
    {
     "name": "stdout",
     "output_type": "stream",
     "text": [
      "CPU times: user 8.61 s, sys: 6.58 ms, total: 8.61 s\n",
      "Wall time: 8.64 s\n"
     ]
    },
    {
     "data": {
      "text/plain": [
       "0.997353377090832"
      ]
     },
     "execution_count": 11,
     "metadata": {},
     "output_type": "execute_result"
    }
   ],
   "source": [
    "%%time\n",
    "rf = RandomForestClassifier()\n",
    "rf.fit(X_train, y_train)\n",
    "rf_y_pred = rf.predict(X_test)\n",
    "accuracy_score(y_test, rf_y_pred)"
   ]
  }
 ],
 "metadata": {
  "kaggle": {
   "accelerator": "none",
   "dataSources": [
    {
     "datasetId": 464228,
     "sourceId": 872432,
     "sourceType": "datasetVersion"
    }
   ],
   "dockerImageVersionId": 30635,
   "isGpuEnabled": false,
   "isInternetEnabled": true,
   "language": "python",
   "sourceType": "notebook"
  },
  "kernelspec": {
   "display_name": "Python 3",
   "language": "python",
   "name": "python3"
  },
  "language_info": {
   "codemirror_mode": {
    "name": "ipython",
    "version": 3
   },
   "file_extension": ".py",
   "mimetype": "text/x-python",
   "name": "python",
   "nbconvert_exporter": "python",
   "pygments_lexer": "ipython3",
   "version": "3.10.12"
  },
  "papermill": {
   "default_parameters": {},
   "duration": 93.469741,
   "end_time": "2024-01-22T12:13:45.193480",
   "environment_variables": {},
   "exception": null,
   "input_path": "__notebook__.ipynb",
   "output_path": "__notebook__.ipynb",
   "parameters": {},
   "start_time": "2024-01-22T12:12:11.723739",
   "version": "2.4.0"
  }
 },
 "nbformat": 4,
 "nbformat_minor": 5
}
