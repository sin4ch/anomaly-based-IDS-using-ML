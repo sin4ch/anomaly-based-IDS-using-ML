{
  "metadata": {
    "kernelspec": {
      "display_name": "Python 3",
      "name": "python3"
    },
    "language_info": {
      "name": "python",
      "version": "3.10.12",
      "mimetype": "text/x-python",
      "codemirror_mode": {
        "name": "ipython",
        "version": 3
      },
      "pygments_lexer": "ipython3",
      "nbconvert_exporter": "python",
      "file_extension": ".py"
    },
    "kaggle": {
      "accelerator": "gpu",
      "dataSources": [
        {
          "sourceId": 872432,
          "sourceType": "datasetVersion",
          "datasetId": 464228
        },
        {
          "sourceId": 7819115,
          "sourceType": "datasetVersion",
          "datasetId": 4581079
        }
      ],
      "dockerImageVersionId": 30635,
      "isInternetEnabled": true,
      "language": "python",
      "sourceType": "notebook",
      "isGpuEnabled": true
    },
    "colab": {
      "provenance": [],
      "gpuType": "T4"
    }
  },
  "nbformat_minor": 0,
  "nbformat": 4,
  "cells": [
    {
      "cell_type": "code",
      "source": [
        "from google.colab import drive\n",
        "drive.mount('/content/drive')"
      ],
      "metadata": {
        "colab": {
          "base_uri": "https://localhost:8080/"
        },
        "id": "XsRPLpclY1X8",
        "outputId": "7f11a2d0-69a0-4f16-dbf9-3b9fd52c8bdd"
      },
      "execution_count": null,
      "outputs": [
        {
          "output_type": "stream",
          "name": "stdout",
          "text": [
            "Drive already mounted at /content/drive; to attempt to forcibly remount, call drive.mount(\"/content/drive\", force_remount=True).\n"
          ]
        }
      ]
    },
    {
      "cell_type": "markdown",
      "source": [
        "# Load datasets"
      ],
      "metadata": {
        "id": "3cvxd2ohbhHU"
      }
    },
    {
      "cell_type": "code",
      "source": [
        "# importing required libaries\n",
        "import numpy as np\n",
        "import pandas as pd\n",
        "pd.set_option('display.max_columns', None)\n",
        "pd.set_option('display.max_rows', 80)\n",
        "\n",
        "from sklearn.preprocessing import LabelEncoder\n",
        "from sklearn.preprocessing import StandardScaler\n",
        "from sklearn.model_selection import train_test_split\n",
        "\n",
        "from sklearn.neighbors import KNeighborsClassifier\n",
        "from sklearn.tree import DecisionTreeClassifier\n",
        "from sklearn.ensemble import RandomForestClassifier\n",
        "import xgboost as xgb\n",
        "\n",
        "from sklearn.metrics import accuracy_score, f1_score, precision_score, recall_score\n",
        "\n",
        "import time\n",
        "import pickle\n",
        "import os"
      ],
      "metadata": {
        "_uuid": "8f2839f25d086af736a60e9eeb907d3b93b6e0e5",
        "_cell_guid": "b1076dfc-b9ad-4769-8c92-a6c4dae69d19",
        "execution": {
          "iopub.status.busy": "2024-03-11T20:54:37.824558Z",
          "iopub.execute_input": "2024-03-11T20:54:37.824934Z",
          "iopub.status.idle": "2024-03-11T20:54:45.328995Z",
          "shell.execute_reply.started": "2024-03-11T20:54:37.824903Z",
          "shell.execute_reply": "2024-03-11T20:54:45.327989Z"
        },
        "trusted": true,
        "id": "ADMmiqOmbhHi"
      },
      "execution_count": null,
      "outputs": []
    },
    {
      "cell_type": "code",
      "source": [
        "data_path = '/content/drive/MyDrive/Colab_Notebooks/CICDS/MachineLearningCVE'\n",
        "df_1 = pd.read_csv(data_path + '/Friday-WorkingHours-Afternoon-DDos.pcap_ISCX.csv')\n",
        "df_2 = pd.read_csv(data_path + '/Friday-WorkingHours-Afternoon-PortScan.pcap_ISCX.csv')\n",
        "df_3 = pd.read_csv(data_path + '/Friday-WorkingHours-Morning.pcap_ISCX.csv')\n",
        "df_4 = pd.read_csv(data_path + '/Monday-WorkingHours.pcap_ISCX.csv')\n",
        "df_5 = pd.read_csv(data_path + '/Thursday-WorkingHours-Afternoon-Infilteration.pcap_ISCX.csv')\n",
        "df_6 = pd.read_csv(data_path + '/Thursday-WorkingHours-Morning-WebAttacks.pcap_ISCX.csv')\n",
        "df_7 = pd.read_csv(data_path + '/Tuesday-WorkingHours.pcap_ISCX.csv')\n",
        "df_8 = pd.read_csv(data_path + '/Wednesday-workingHours.pcap_ISCX.csv')"
      ],
      "metadata": {
        "execution": {
          "iopub.status.busy": "2024-03-11T20:54:45.330860Z",
          "iopub.execute_input": "2024-03-11T20:54:45.331368Z",
          "iopub.status.idle": "2024-03-11T20:55:18.318151Z",
          "shell.execute_reply.started": "2024-03-11T20:54:45.331339Z",
          "shell.execute_reply": "2024-03-11T20:55:18.317277Z"
        },
        "trusted": true,
        "id": "fwj_X0hmbhHp"
      },
      "execution_count": null,
      "outputs": []
    },
    {
      "cell_type": "markdown",
      "source": [
        "# 1.0 Data Preprocessing"
      ],
      "metadata": {
        "id": "lpoz0d7wbhHx"
      }
    },
    {
      "cell_type": "code",
      "source": [
        "# get shapes of each dataframe's\n",
        "for i in range(1, 9):\n",
        "    df_name = f'df_{i}'\n",
        "    current_df = globals()[df_name]\n",
        "    print(f\"{df_name}: {current_df.shape}\")\n",
        "del df_name, current_df"
      ],
      "metadata": {
        "execution": {
          "iopub.status.busy": "2024-03-11T20:55:18.319300Z",
          "iopub.execute_input": "2024-03-11T20:55:18.319614Z",
          "iopub.status.idle": "2024-03-11T20:55:18.325822Z",
          "shell.execute_reply.started": "2024-03-11T20:55:18.319589Z",
          "shell.execute_reply": "2024-03-11T20:55:18.324707Z"
        },
        "trusted": true,
        "colab": {
          "base_uri": "https://localhost:8080/"
        },
        "id": "wUMf-OtPbhHy",
        "outputId": "df1c8d63-ce67-4539-e01d-7042e01d5732"
      },
      "execution_count": null,
      "outputs": [
        {
          "output_type": "stream",
          "name": "stdout",
          "text": [
            "df_1: (225745, 79)\n",
            "df_2: (286467, 79)\n",
            "df_3: (191033, 79)\n",
            "df_4: (529918, 79)\n",
            "df_5: (288602, 79)\n",
            "df_6: (170366, 79)\n",
            "df_7: (445909, 79)\n",
            "df_8: (692703, 79)\n"
          ]
        }
      ]
    },
    {
      "cell_type": "markdown",
      "source": [
        "### 1.1\n",
        "* Data Concatenation\n",
        "* Drop duplicated rows\n",
        "* Drop features with constant values\n",
        "* Fill missing values"
      ],
      "metadata": {
        "id": "akyUSLQxbhH2"
      }
    },
    {
      "cell_type": "code",
      "source": [
        "# Concatenates all data frames\n",
        "main_df = pd.concat([df_1, df_2, df_3, df_4, df_5, df_6, df_7, df_8])\n",
        "main_df = main_df.reset_index()\n",
        "\n",
        "\n",
        "# Drop duplicates: same observation but multiple occurences\n",
        "main_df.drop_duplicates(keep='first', inplace=True)\n",
        "\n",
        "\n",
        "# Drop columns that have just one unique value, the model wil not learn form columns like this.\n",
        "one_value = main_df.columns[main_df.nunique() == 1]\n",
        "main_df.drop(columns = one_value, axis=1, inplace=True)\n",
        "\n",
        "\n",
        "# Fill nan values\n",
        "main_df['Flow Bytes/s'] = main_df['Flow Bytes/s'].fillna(main_df['Flow Bytes/s'].mean())\n",
        "\n",
        "\n",
        "# Remove leading space character in all feature names\n",
        "main_df.rename(columns=lambda x: x.lstrip(), inplace=True)\n",
        "\n",
        "\n",
        "# Drop columns\n",
        "main_df.drop(['Flow Packets/s', 'Flow Bytes/s'], axis=1, inplace=True)\n",
        "\n",
        "main_df.shape"
      ],
      "metadata": {
        "execution": {
          "iopub.status.busy": "2024-03-11T20:55:18.328722Z",
          "iopub.execute_input": "2024-03-11T20:55:18.329106Z",
          "iopub.status.idle": "2024-03-11T20:55:41.293818Z",
          "shell.execute_reply.started": "2024-03-11T20:55:18.329072Z",
          "shell.execute_reply": "2024-03-11T20:55:41.292824Z"
        },
        "trusted": true,
        "colab": {
          "base_uri": "https://localhost:8080/"
        },
        "id": "D3o9MN8dbhH4",
        "outputId": "68b147cd-7105-4f8b-9150-154c660e3bd7"
      },
      "execution_count": null,
      "outputs": [
        {
          "output_type": "execute_result",
          "data": {
            "text/plain": [
              "(2830731, 70)"
            ]
          },
          "metadata": {},
          "execution_count": 5
        }
      ]
    },
    {
      "cell_type": "code",
      "source": [
        "# Checking numbers of missing values on the df\n",
        "main_df.isna().sum().sum()"
      ],
      "metadata": {
        "execution": {
          "iopub.status.busy": "2024-03-11T20:55:41.295074Z",
          "iopub.execute_input": "2024-03-11T20:55:41.295407Z",
          "iopub.status.idle": "2024-03-11T20:55:41.760249Z",
          "shell.execute_reply.started": "2024-03-11T20:55:41.295381Z",
          "shell.execute_reply": "2024-03-11T20:55:41.759159Z"
        },
        "trusted": true,
        "id": "vKmBijkLbhH7",
        "colab": {
          "base_uri": "https://localhost:8080/"
        },
        "outputId": "8894125c-363c-4852-b879-cb11afebd369"
      },
      "execution_count": null,
      "outputs": [
        {
          "output_type": "execute_result",
          "data": {
            "text/plain": [
              "0"
            ]
          },
          "metadata": {},
          "execution_count": 6
        }
      ]
    },
    {
      "cell_type": "code",
      "source": [
        "# delete df variables to free up space\n",
        "del data_path, df_1, df_2, df_3, df_4, df_5, df_6, df_7, df_8, one_value"
      ],
      "metadata": {
        "id": "0tIO9O3LZoR_"
      },
      "execution_count": null,
      "outputs": []
    },
    {
      "cell_type": "markdown",
      "source": [
        "### 1.2 Extract subsample of data\n",
        "Getting a subsample of the data, while taking every unique values in the Label(Target) column into consideration."
      ],
      "metadata": {
        "id": "7omH0x4HbhH-"
      }
    },
    {
      "cell_type": "code",
      "source": [
        "main_df['Label'].value_counts()"
      ],
      "metadata": {
        "execution": {
          "iopub.status.busy": "2024-03-11T20:55:41.761495Z",
          "iopub.execute_input": "2024-03-11T20:55:41.762026Z",
          "iopub.status.idle": "2024-03-11T20:55:42.208694Z",
          "shell.execute_reply.started": "2024-03-11T20:55:41.761997Z",
          "shell.execute_reply": "2024-03-11T20:55:42.207684Z"
        },
        "trusted": true,
        "id": "fWyJF0jObhIA",
        "colab": {
          "base_uri": "https://localhost:8080/"
        },
        "outputId": "0ee1b915-04e7-43ef-a056-d94c3d316a04"
      },
      "execution_count": null,
      "outputs": [
        {
          "output_type": "execute_result",
          "data": {
            "text/plain": [
              "Label\n",
              "BENIGN                        2273085\n",
              "DoS Hulk                       231073\n",
              "PortScan                       158930\n",
              "DDoS                           128027\n",
              "DoS GoldenEye                   10293\n",
              "FTP-Patator                      7938\n",
              "SSH-Patator                      5897\n",
              "DoS slowloris                    5796\n",
              "DoS Slowhttptest                 5499\n",
              "Bot                              1966\n",
              "Web Attack � Brute Force         1507\n",
              "Web Attack � XSS                  652\n",
              "Infiltration                       36\n",
              "Web Attack � Sql Injection         21\n",
              "Heartbleed                         11\n",
              "Name: count, dtype: int64"
            ]
          },
          "metadata": {},
          "execution_count": 8
        }
      ]
    },
    {
      "cell_type": "code",
      "source": [
        "# Get sub sample of the dataframe, so as to reduce computation time.\n",
        "\n",
        "\n",
        "# For each distinct class label in the Target column, create a dataframe for it\n",
        "heartbleed = main_df[main_df['Label'] == 'Heartbleed']\n",
        "Web_Attack_Sql_Injection = main_df[main_df['Label'] == 'Web Attack � Sql Injection']\n",
        "Infiltration = main_df[main_df['Label'] == 'Infiltration']\n",
        "Web_Attack_XSS = main_df[main_df['Label'] == 'Web Attack � XSS']\n",
        "Web_Attack_Brute_Force = main_df[main_df['Label'] == 'Web Attack � Brute Force']\n",
        "Bot = main_df[main_df['Label'] == 'Bot']\n",
        "DoS_Slowhttptest = main_df[main_df['Label'] == 'DoS Slowhttptest']\n",
        "DoS_slowloris = main_df[main_df['Label'] == 'DoS slowloris']\n",
        "SSH_Patator = main_df[main_df['Label'] == 'SSH-Patator']\n",
        "FTP_Patator = main_df[main_df['Label'] == 'FTP-Patator']\n",
        "DoS_GoldenEye = main_df[main_df['Label'] == 'DoS GoldenEye']\n",
        "DDoS = main_df[main_df['Label'] == 'DDoS']\n",
        "PortScan = main_df[main_df['Label'] == 'PortScan']\n",
        "DoS_Hulk = main_df[main_df['Label'] == 'DoS Hulk']\n",
        "BENIGN = main_df[main_df['Label'] == 'BENIGN']\n",
        "\n",
        "\n",
        "# extracting 100 of rows each from features with over 600 observations.\n",
        "Web_Attack_XSS_sample = Web_Attack_XSS.sample(n=100)\n",
        "Web_Attack_Brute_Force_sample = Web_Attack_Brute_Force.sample(n=100)\n",
        "Bot_sample = Bot.sample(n=100)\n",
        "DoS_slowloris_sample = DoS_slowloris.sample(n=100)\n",
        "DoS_Slowhttptest_sample = DoS_Slowhttptest.sample(n=100)\n",
        "DoS_slowloris_sample = DoS_slowloris.sample(n=100)\n",
        "SSH_Patator_sample = SSH_Patator.sample(n=100)\n",
        "FTP_Patator_sample = FTP_Patator.sample(n=100)\n",
        "DoS_GoldenEye_sample = DoS_GoldenEye.sample(n=100)\n",
        "DDoS_sample = DDoS.sample(n=100)\n",
        "PortScan_sample = PortScan.sample(n=100)\n",
        "DoS_Hulk_sample = DoS_Hulk.sample(n=100)\n",
        "BENIGN_sample = BENIGN.sample(n=100)\n",
        "\n",
        "\n",
        "# Concate sub sample observations to a dataframe\n",
        "sample_df = pd.concat([heartbleed, Web_Attack_Sql_Injection, Infiltration, Web_Attack_XSS_sample, Web_Attack_Brute_Force_sample,\n",
        "                       Bot_sample, DoS_Slowhttptest_sample, DoS_slowloris_sample, SSH_Patator_sample, FTP_Patator_sample,\n",
        "                       DoS_GoldenEye_sample, DDoS_sample, PortScan_sample, DoS_Hulk_sample, BENIGN_sample])\n",
        "sample_df.shape"
      ],
      "metadata": {
        "execution": {
          "iopub.status.busy": "2024-03-11T20:55:42.209882Z",
          "iopub.execute_input": "2024-03-11T20:55:42.210160Z",
          "iopub.status.idle": "2024-03-11T20:55:49.374683Z",
          "shell.execute_reply.started": "2024-03-11T20:55:42.210137Z",
          "shell.execute_reply": "2024-03-11T20:55:49.373447Z"
        },
        "trusted": true,
        "id": "yowUyW3ZbhIO",
        "colab": {
          "base_uri": "https://localhost:8080/"
        },
        "outputId": "1ce25348-7947-4e4b-fb6b-8ed17b73b16a"
      },
      "execution_count": null,
      "outputs": [
        {
          "output_type": "execute_result",
          "data": {
            "text/plain": [
              "(1268, 70)"
            ]
          },
          "metadata": {},
          "execution_count": 9
        }
      ]
    },
    {
      "cell_type": "code",
      "source": [
        "# del variables to free up memory\n",
        "del heartbleed, Web_Attack_Sql_Injection, Infiltration, Web_Attack_XSS_sample, Web_Attack_Brute_Force_sample, Bot_sample, DoS_Slowhttptest_sample, DoS_slowloris_sample, SSH_Patator_sample, FTP_Patator_sample, DoS_GoldenEye_sample, DDoS_sample, PortScan_sample, DoS_Hulk_sample, BENIGN_sample\n",
        "del Web_Attack_XSS, Web_Attack_Brute_Force, Bot, DoS_Slowhttptest, DoS_slowloris, SSH_Patator, FTP_Patator, DoS_GoldenEye, DDoS, PortScan, DoS_Hulk, BENIGN\n",
        "del main_df"
      ],
      "metadata": {
        "id": "7OiBR9E4ffxc"
      },
      "execution_count": null,
      "outputs": []
    },
    {
      "cell_type": "code",
      "source": [
        "sample_df['Label'].value_counts()"
      ],
      "metadata": {
        "colab": {
          "base_uri": "https://localhost:8080/"
        },
        "id": "Xhe_Zpri2TNj",
        "outputId": "9763326b-c719-4e5f-f57f-253446325136"
      },
      "execution_count": null,
      "outputs": [
        {
          "output_type": "execute_result",
          "data": {
            "text/plain": [
              "Label\n",
              "Web Attack � XSS              100\n",
              "Web Attack � Brute Force      100\n",
              "Bot                           100\n",
              "DoS Slowhttptest              100\n",
              "DoS slowloris                 100\n",
              "SSH-Patator                   100\n",
              "FTP-Patator                   100\n",
              "DoS GoldenEye                 100\n",
              "DDoS                          100\n",
              "PortScan                      100\n",
              "DoS Hulk                      100\n",
              "BENIGN                        100\n",
              "Infiltration                   36\n",
              "Web Attack � Sql Injection     21\n",
              "Heartbleed                     11\n",
              "Name: count, dtype: int64"
            ]
          },
          "metadata": {},
          "execution_count": 11
        }
      ]
    },
    {
      "cell_type": "markdown",
      "source": [
        "## 1.3 Label Encoder and Data Scaling"
      ],
      "metadata": {
        "id": "kdIsUXW8bhIQ"
      }
    },
    {
      "cell_type": "code",
      "source": [
        "le = LabelEncoder()\n",
        "sample_df['Label'] = le.fit_transform(sample_df['Label'])\n",
        "sample_df.drop(['index'], axis=1, inplace=True)"
      ],
      "metadata": {
        "execution": {
          "iopub.status.busy": "2024-03-11T20:55:49.376096Z",
          "iopub.execute_input": "2024-03-11T20:55:49.376507Z",
          "iopub.status.idle": "2024-03-11T20:55:49.388075Z",
          "shell.execute_reply.started": "2024-03-11T20:55:49.376477Z",
          "shell.execute_reply": "2024-03-11T20:55:49.387098Z"
        },
        "trusted": true,
        "id": "4dDegm4ubhIR"
      },
      "execution_count": null,
      "outputs": []
    },
    {
      "cell_type": "markdown",
      "source": [
        "# Data Spliting"
      ],
      "metadata": {
        "id": "3MSZCnU9bhIR"
      }
    },
    {
      "cell_type": "code",
      "source": [
        "X = sample_df.drop(columns=['Label'], axis=1)\n",
        "y = sample_df['Label']\n",
        "\n",
        "# Initial train test split set\n",
        "X_train, X_test, y_train, y_test = train_test_split(X, y, test_size=0.2, random_state=42, stratify=y)\n",
        "\n",
        "# Further split training set into training (70%) and validation (10%) sets\n",
        "X_train, X_val, y_train, y_val = train_test_split(X_train, y_train, test_size=0.1, random_state=42, stratify=y_train)\n",
        "\n",
        "# Display the shapes of the resulting sets\n",
        "print(\"Training set shape:\", X_train.shape)\n",
        "print(\"Validation set shape:\", X_val.shape)\n",
        "print(\"Testing set shape:\", X_test.shape)"
      ],
      "metadata": {
        "execution": {
          "iopub.status.busy": "2024-03-11T20:55:49.389502Z",
          "iopub.execute_input": "2024-03-11T20:55:49.389945Z",
          "iopub.status.idle": "2024-03-11T20:55:49.412321Z",
          "shell.execute_reply.started": "2024-03-11T20:55:49.389906Z",
          "shell.execute_reply": "2024-03-11T20:55:49.411411Z"
        },
        "trusted": true,
        "id": "jJfduB1bbhIS",
        "colab": {
          "base_uri": "https://localhost:8080/"
        },
        "outputId": "7c34b348-012b-4906-b844-97e3f370b129"
      },
      "execution_count": null,
      "outputs": [
        {
          "output_type": "stream",
          "name": "stdout",
          "text": [
            "Training set shape: (912, 68)\n",
            "Validation set shape: (102, 68)\n",
            "Testing set shape: (254, 68)\n"
          ]
        }
      ]
    },
    {
      "cell_type": "code",
      "source": [
        "# del sample_df to free up memory\n",
        "del sample_df, X, y"
      ],
      "metadata": {
        "id": "vA0zoM2XiY1t"
      },
      "execution_count": null,
      "outputs": []
    },
    {
      "cell_type": "code",
      "source": [
        "def model_training_time(model_name: str, total_time: float):\n",
        "  '''\n",
        "  Save model training time and name, and to load for future data analysis.\n",
        "  '''\n",
        "  try:\n",
        "    time_taken = pd.read_csv('/content/drive/MyDrive/Colab_Notebooks/CICDS/Models/time_taken.csv')\n",
        "  except FileNotFoundError:\n",
        "    time_taken = pd.DataFrame(columns=['Model Name', 'Time'])\n",
        "\n",
        "  # Append new data to df\n",
        "  new_data = pd.DataFrame({'Model Name': [model_name], 'Time': [total_time]})\n",
        "  time_taken = pd.concat([time_taken, new_data], ignore_index=True)\n",
        "\n",
        "  # Save updated DataFrame to CSV\n",
        "  time_taken.to_csv('/content/drive/MyDrive/Colab_Notebooks/CICDS/Models/time_taken.csv', index=False)"
      ],
      "metadata": {
        "id": "0zrSgvEWyRJi"
      },
      "execution_count": null,
      "outputs": []
    },
    {
      "cell_type": "markdown",
      "source": [
        "## Model evaluation"
      ],
      "metadata": {
        "id": "fpdDfMrMJg2P"
      }
    },
    {
      "cell_type": "code",
      "source": [
        "def model_evaluation(y_true, y_pred):\n",
        "  f1 = f1_score(y_true, y_pred, average='macro')\n",
        "  recall = recall_score(y_true, y_pred, average='micro')\n",
        "  precision = precision_score(y_true, y_pred, average='micro')\n",
        "  print(f'F1 Score: {f1} \\nRecall Score: {recall} \\nPrecision Score: {precision}')"
      ],
      "metadata": {
        "id": "UiIzHj6NHwIz"
      },
      "execution_count": null,
      "outputs": []
    },
    {
      "cell_type": "markdown",
      "source": [
        "# Model Training"
      ],
      "metadata": {
        "id": "oPXrJBgQbhIT"
      }
    },
    {
      "cell_type": "markdown",
      "source": [
        "### XGBoost"
      ],
      "metadata": {
        "id": "NskCwSlLSBXI"
      }
    },
    {
      "cell_type": "code",
      "source": [
        "# Train on GPU\n",
        "import torch\n",
        "device = torch.device('cuda' if torch.cuda.is_available() else 'cpu')\n",
        "\n",
        "xgb_start_train = time.time() # Start time\n",
        "\n",
        "# xgb_model = xgb.XGBClassifier(tree_method='hist', device=device, num_class=8) # Uncomment of run on GPU\n",
        "xgb_model = xgb.XGBClassifier(num_class=8) # uncomment to run on CPU\n",
        "xgb_model.fit(X_train, y_train, eval_set=[(X_test, y_test)], verbose=False)\n",
        "\n",
        "xgb_end_train = time.time() # End time\n",
        "xgb_training_time = xgb_end_train - xgb_start_train # Total model training time\n",
        "\n",
        "\n",
        "# Testing\n",
        "xgb_start_test = time.time()\n",
        "y_pred_xgb = xgb_model.predict(X_test)\n",
        "acc_test_xgb = accuracy_score(y_test, y_pred_xgb)\n",
        "xgb_end_test = time.time()\n",
        "xgb_testing_time = xgb_end_test - xgb_start_test\n",
        "\n",
        "\n",
        "# Validation\n",
        "xgb_start_validation = time.time()\n",
        "xgb_y_val =  xgb_model.predict(X_val)\n",
        "xgb_val_acc = accuracy_score(y_val, xgb_y_val)\n",
        "xgb_end_validation = time.time()\n",
        "xgb_validation_time = xgb_end_validation - xgb_start_validation\n",
        "\n",
        "\n",
        "model_evaluation(y_val, xgb_y_val)"
      ],
      "metadata": {
        "id": "eVx2LycVdjBC",
        "colab": {
          "base_uri": "https://localhost:8080/"
        },
        "outputId": "1bbda172-6ead-4cd6-b0e0-6fc74ea5cf5c"
      },
      "execution_count": null,
      "outputs": [
        {
          "output_type": "stream",
          "name": "stdout",
          "text": [
            "F1 Score: 0.9162962962962963 \n",
            " Recall Score: 0.9313725490196079 \n",
            " Precision Score: 0.9313725490196079\n"
          ]
        }
      ]
    },
    {
      "cell_type": "markdown",
      "source": [
        "### KNN"
      ],
      "metadata": {
        "id": "XXz3JNbzSEjH"
      }
    },
    {
      "cell_type": "code",
      "source": [
        "knn_file_path = '/content/drive/MyDrive/Colab_Notebooks/CICDS/Models/knn_model.sav'\n",
        "\n",
        "\n",
        "# Create path if not existed, time the KNN training time and save model.\n",
        "if not os.path.isfile(knn_file_path):\n",
        "  knn_start_time = time.time()                              # start time\n",
        "\n",
        "  knn = KNeighborsClassifier()\n",
        "  knn.fit(X_train, y_train)\n",
        "\n",
        "  knn_end_time = time.time()                                # end time\n",
        "  knn_training_time = knn_end_time - knn_start_time         # knn_training_time\n",
        "  model_training_time(type(knn).__name__, knn_training_time)\n",
        "\n",
        "  pickle.dump(knn, open(knn_file_path, 'wb'))               # dump model to path\n",
        "\n",
        "\n",
        "# If path already existed, just Load and test, val data.\n",
        "if os.path.isfile(knn_file_path):\n",
        "  knn = pickle.load(open(knn_file_path, 'rb'))\n",
        "\n",
        "  # Testing\n",
        "  knn_start_test = time.time()\n",
        "\n",
        "  knn_y_test = knn.predict(X_test)\n",
        "  knn_test_acc = accuracy_score(y_test, knn_y_test)\n",
        "\n",
        "  knn_end_test = time.time()\n",
        "  knn_testing_time = knn_end_test - knn_start_test\n",
        "\n",
        "\n",
        "  # Validation\n",
        "  knn_start_validation = time.time()\n",
        "\n",
        "  knn_y_val =  knn.predict(X_val)\n",
        "  knn_val_acc = accuracy_score(y_val, knn_y_val)\n",
        "\n",
        "  knn_end_validation = time.time()\n",
        "  knn_validation_time = knn_end_validation - knn_start_validation\n",
        "\n",
        "\n",
        "  model_evaluation(y_val, knn_y_val)"
      ],
      "metadata": {
        "id": "dlGYm2kCNC0c",
        "colab": {
          "base_uri": "https://localhost:8080/"
        },
        "outputId": "75c39b33-6c91-4841-e728-0e9233d4dba2"
      },
      "execution_count": null,
      "outputs": [
        {
          "output_type": "stream",
          "name": "stdout",
          "text": [
            "F1 Score: 0.7369389978213507 \n",
            " Recall Score: 0.8235294117647058 \n",
            " Precision Score: 0.8235294117647058\n"
          ]
        }
      ]
    },
    {
      "cell_type": "markdown",
      "source": [
        "### Decison Tree"
      ],
      "metadata": {
        "id": "RIuU6ltnSNuR"
      }
    },
    {
      "cell_type": "code",
      "source": [
        "dt_file_path = '/content/drive/MyDrive/Colab_Notebooks/CICDS/Models/dt_model.sav'\n",
        "\n",
        "if not os.path.isfile(dt_file_path):\n",
        "  dt_start_time = time.time()                 # start time\n",
        "  dt = DecisionTreeClassifier()\n",
        "  dt.fit(X_train, y_train)\n",
        "  dt_end_time = time.time()                    # end time\n",
        "  dt_training_time = dt_end_time - dt_start_time\n",
        "  model_training_time(type(dt).__name__, dt_training_time)\n",
        "  pickle.dump(dt, open(dt_file_path, 'wb'))\n",
        "\n",
        "\n",
        "\n",
        "if os.path.isfile(dt_file_path):\n",
        "  # Load and test, val data\n",
        "  dt = pickle.load(open(dt_file_path, 'rb'))\n",
        "\n",
        "  # Testing\n",
        "  dt_start_test = time.time()\n",
        "\n",
        "  dt_y_test = dt.predict(X_test)\n",
        "  dt_test_acc = accuracy_score(y_test, dt_y_test)\n",
        "\n",
        "  dt_end_test = time.time()\n",
        "  dt_testing_time = dt_end_test - dt_start_test\n",
        "\n",
        "\n",
        "  # Validation\n",
        "  dt_start_validation = time.time()\n",
        "\n",
        "  dt_y_val =  dt.predict(X_val)\n",
        "  dt_val_acc = accuracy_score(y_val, dt_y_val)\n",
        "\n",
        "  dt_end_validation = time.time()\n",
        "  dt_validation_time = dt_end_validation - dt_start_validation\n",
        "\n",
        "\n",
        "  model_evaluation(y_val, dt_y_val)"
      ],
      "metadata": {
        "id": "HLJ_U_Z3V7aO",
        "colab": {
          "base_uri": "https://localhost:8080/"
        },
        "outputId": "423d34f6-a9b2-47b7-d9f6-2beb1037e6dc"
      },
      "execution_count": null,
      "outputs": [
        {
          "output_type": "stream",
          "name": "stdout",
          "text": [
            "F1 Score: 0.8692896645837823 \n",
            " Recall Score: 0.8823529411764706 \n",
            " Precision Score: 0.8823529411764706\n"
          ]
        }
      ]
    },
    {
      "cell_type": "markdown",
      "source": [
        "### Random Forest"
      ],
      "metadata": {
        "id": "OcS-R33QSRN9"
      }
    },
    {
      "cell_type": "code",
      "source": [
        "import os\n",
        "rf_file_path = '/content/drive/MyDrive/Colab_Notebooks/CICDS/Models/rf_model.sav'\n",
        "\n",
        "if not os.path.isfile(rf_file_path):\n",
        "  rf_start_time = time.time()                 # start time\n",
        "\n",
        "  rf = RandomForestClassifier()\n",
        "  rf.fit(X_train, y_train)\n",
        "\n",
        "  rf_end_time = time.time()                    # end time\n",
        "\n",
        "  rf_training_time = rf_end_time - rf_start_time\n",
        "  model_training_time(type(rf).__name__, rf_training_time)\n",
        "  pickle.dump(rf, open(rf_file_path, 'wb'))\n",
        "\n",
        "\n",
        "if os.path.isfile(rf_file_path):\n",
        "  # Load and test, val data\n",
        "  rf = pickle.load(open(rf_file_path, 'rb'))\n",
        "\n",
        "  # Testing\n",
        "  rf_start_test = time.time()\n",
        "\n",
        "  rf_y_test = rf.predict(X_test)\n",
        "  rf_test_acc = accuracy_score(y_test, rf_y_test)\n",
        "\n",
        "  rf_end_test = time.time()\n",
        "  rf_testing_time = rf_end_test - rf_start_test\n",
        "\n",
        "\n",
        "  # Validation\n",
        "  rf_start_validation = time.time()\n",
        "\n",
        "  rf_y_val =  rf.predict(X_val)\n",
        "  rf_val_acc = accuracy_score(y_val, rf_y_val)\n",
        "\n",
        "  rf_end_validation = time.time()\n",
        "  rf_validation_time = rf_end_validation - rf_start_validation\n",
        "\n",
        "\n",
        "  model_evaluation(y_val, rf_y_val)"
      ],
      "metadata": {
        "id": "Uv-9u5BFXilq",
        "colab": {
          "base_uri": "https://localhost:8080/"
        },
        "outputId": "5279ed39-5456-410a-f6b1-76cd3009c626"
      },
      "execution_count": null,
      "outputs": [
        {
          "output_type": "stream",
          "name": "stdout",
          "text": [
            "F1 Score: 0.872448939089806 \n",
            " Recall Score: 0.8823529411764706 \n",
            " Precision Score: 0.8823529411764706\n"
          ]
        }
      ]
    },
    {
      "cell_type": "markdown",
      "source": [
        "## Model Analysis"
      ],
      "metadata": {
        "id": "14QAzQw6mUMI"
      }
    },
    {
      "cell_type": "code",
      "source": [
        "models_training_time = pd.read_csv('/content/drive/MyDrive/Colab_Notebooks/CICDS/Models/time_taken.csv')\n",
        "\n",
        "new_data = pd.DataFrame({'Model Name': [type(xgb_model).__name__], 'Time': [xgb_training_time]})\n",
        "\n",
        "# Append new data to the existing DataFrame\n",
        "models_training_time_1 = models_training_time.copy()\n",
        "models_training_time_1 = pd.concat([models_training_time, new_data], axis=0)\n",
        "models_training_time_1"
      ],
      "metadata": {
        "colab": {
          "base_uri": "https://localhost:8080/",
          "height": 175
        },
        "id": "ekwVnRRG0Nsj",
        "outputId": "426a3bc8-9d9f-4cbc-c574-4a15870cb3ff"
      },
      "execution_count": null,
      "outputs": [
        {
          "output_type": "execute_result",
          "data": {
            "text/plain": [
              "               Model Name      Time\n",
              "0    KNeighborsClassifier  0.004062\n",
              "1  DecisionTreeClassifier  0.035476\n",
              "2  RandomForestClassifier  0.321845\n",
              "0           XGBClassifier  1.960415"
            ],
            "text/html": [
              "\n",
              "  <div id=\"df-07480bb5-1068-4073-b5ba-80df16910a4b\" class=\"colab-df-container\">\n",
              "    <div>\n",
              "<style scoped>\n",
              "    .dataframe tbody tr th:only-of-type {\n",
              "        vertical-align: middle;\n",
              "    }\n",
              "\n",
              "    .dataframe tbody tr th {\n",
              "        vertical-align: top;\n",
              "    }\n",
              "\n",
              "    .dataframe thead th {\n",
              "        text-align: right;\n",
              "    }\n",
              "</style>\n",
              "<table border=\"1\" class=\"dataframe\">\n",
              "  <thead>\n",
              "    <tr style=\"text-align: right;\">\n",
              "      <th></th>\n",
              "      <th>Model Name</th>\n",
              "      <th>Time</th>\n",
              "    </tr>\n",
              "  </thead>\n",
              "  <tbody>\n",
              "    <tr>\n",
              "      <th>0</th>\n",
              "      <td>KNeighborsClassifier</td>\n",
              "      <td>0.004062</td>\n",
              "    </tr>\n",
              "    <tr>\n",
              "      <th>1</th>\n",
              "      <td>DecisionTreeClassifier</td>\n",
              "      <td>0.035476</td>\n",
              "    </tr>\n",
              "    <tr>\n",
              "      <th>2</th>\n",
              "      <td>RandomForestClassifier</td>\n",
              "      <td>0.321845</td>\n",
              "    </tr>\n",
              "    <tr>\n",
              "      <th>0</th>\n",
              "      <td>XGBClassifier</td>\n",
              "      <td>1.960415</td>\n",
              "    </tr>\n",
              "  </tbody>\n",
              "</table>\n",
              "</div>\n",
              "    <div class=\"colab-df-buttons\">\n",
              "\n",
              "  <div class=\"colab-df-container\">\n",
              "    <button class=\"colab-df-convert\" onclick=\"convertToInteractive('df-07480bb5-1068-4073-b5ba-80df16910a4b')\"\n",
              "            title=\"Convert this dataframe to an interactive table.\"\n",
              "            style=\"display:none;\">\n",
              "\n",
              "  <svg xmlns=\"http://www.w3.org/2000/svg\" height=\"24px\" viewBox=\"0 -960 960 960\">\n",
              "    <path d=\"M120-120v-720h720v720H120Zm60-500h600v-160H180v160Zm220 220h160v-160H400v160Zm0 220h160v-160H400v160ZM180-400h160v-160H180v160Zm440 0h160v-160H620v160ZM180-180h160v-160H180v160Zm440 0h160v-160H620v160Z\"/>\n",
              "  </svg>\n",
              "    </button>\n",
              "\n",
              "  <style>\n",
              "    .colab-df-container {\n",
              "      display:flex;\n",
              "      gap: 12px;\n",
              "    }\n",
              "\n",
              "    .colab-df-convert {\n",
              "      background-color: #E8F0FE;\n",
              "      border: none;\n",
              "      border-radius: 50%;\n",
              "      cursor: pointer;\n",
              "      display: none;\n",
              "      fill: #1967D2;\n",
              "      height: 32px;\n",
              "      padding: 0 0 0 0;\n",
              "      width: 32px;\n",
              "    }\n",
              "\n",
              "    .colab-df-convert:hover {\n",
              "      background-color: #E2EBFA;\n",
              "      box-shadow: 0px 1px 2px rgba(60, 64, 67, 0.3), 0px 1px 3px 1px rgba(60, 64, 67, 0.15);\n",
              "      fill: #174EA6;\n",
              "    }\n",
              "\n",
              "    .colab-df-buttons div {\n",
              "      margin-bottom: 4px;\n",
              "    }\n",
              "\n",
              "    [theme=dark] .colab-df-convert {\n",
              "      background-color: #3B4455;\n",
              "      fill: #D2E3FC;\n",
              "    }\n",
              "\n",
              "    [theme=dark] .colab-df-convert:hover {\n",
              "      background-color: #434B5C;\n",
              "      box-shadow: 0px 1px 3px 1px rgba(0, 0, 0, 0.15);\n",
              "      filter: drop-shadow(0px 1px 2px rgba(0, 0, 0, 0.3));\n",
              "      fill: #FFFFFF;\n",
              "    }\n",
              "  </style>\n",
              "\n",
              "    <script>\n",
              "      const buttonEl =\n",
              "        document.querySelector('#df-07480bb5-1068-4073-b5ba-80df16910a4b button.colab-df-convert');\n",
              "      buttonEl.style.display =\n",
              "        google.colab.kernel.accessAllowed ? 'block' : 'none';\n",
              "\n",
              "      async function convertToInteractive(key) {\n",
              "        const element = document.querySelector('#df-07480bb5-1068-4073-b5ba-80df16910a4b');\n",
              "        const dataTable =\n",
              "          await google.colab.kernel.invokeFunction('convertToInteractive',\n",
              "                                                    [key], {});\n",
              "        if (!dataTable) return;\n",
              "\n",
              "        const docLinkHtml = 'Like what you see? Visit the ' +\n",
              "          '<a target=\"_blank\" href=https://colab.research.google.com/notebooks/data_table.ipynb>data table notebook</a>'\n",
              "          + ' to learn more about interactive tables.';\n",
              "        element.innerHTML = '';\n",
              "        dataTable['output_type'] = 'display_data';\n",
              "        await google.colab.output.renderOutput(dataTable, element);\n",
              "        const docLink = document.createElement('div');\n",
              "        docLink.innerHTML = docLinkHtml;\n",
              "        element.appendChild(docLink);\n",
              "      }\n",
              "    </script>\n",
              "  </div>\n",
              "\n",
              "\n",
              "<div id=\"df-9158ca69-6826-4732-a541-8a2bdd625c71\">\n",
              "  <button class=\"colab-df-quickchart\" onclick=\"quickchart('df-9158ca69-6826-4732-a541-8a2bdd625c71')\"\n",
              "            title=\"Suggest charts\"\n",
              "            style=\"display:none;\">\n",
              "\n",
              "<svg xmlns=\"http://www.w3.org/2000/svg\" height=\"24px\"viewBox=\"0 0 24 24\"\n",
              "     width=\"24px\">\n",
              "    <g>\n",
              "        <path d=\"M19 3H5c-1.1 0-2 .9-2 2v14c0 1.1.9 2 2 2h14c1.1 0 2-.9 2-2V5c0-1.1-.9-2-2-2zM9 17H7v-7h2v7zm4 0h-2V7h2v10zm4 0h-2v-4h2v4z\"/>\n",
              "    </g>\n",
              "</svg>\n",
              "  </button>\n",
              "\n",
              "<style>\n",
              "  .colab-df-quickchart {\n",
              "      --bg-color: #E8F0FE;\n",
              "      --fill-color: #1967D2;\n",
              "      --hover-bg-color: #E2EBFA;\n",
              "      --hover-fill-color: #174EA6;\n",
              "      --disabled-fill-color: #AAA;\n",
              "      --disabled-bg-color: #DDD;\n",
              "  }\n",
              "\n",
              "  [theme=dark] .colab-df-quickchart {\n",
              "      --bg-color: #3B4455;\n",
              "      --fill-color: #D2E3FC;\n",
              "      --hover-bg-color: #434B5C;\n",
              "      --hover-fill-color: #FFFFFF;\n",
              "      --disabled-bg-color: #3B4455;\n",
              "      --disabled-fill-color: #666;\n",
              "  }\n",
              "\n",
              "  .colab-df-quickchart {\n",
              "    background-color: var(--bg-color);\n",
              "    border: none;\n",
              "    border-radius: 50%;\n",
              "    cursor: pointer;\n",
              "    display: none;\n",
              "    fill: var(--fill-color);\n",
              "    height: 32px;\n",
              "    padding: 0;\n",
              "    width: 32px;\n",
              "  }\n",
              "\n",
              "  .colab-df-quickchart:hover {\n",
              "    background-color: var(--hover-bg-color);\n",
              "    box-shadow: 0 1px 2px rgba(60, 64, 67, 0.3), 0 1px 3px 1px rgba(60, 64, 67, 0.15);\n",
              "    fill: var(--button-hover-fill-color);\n",
              "  }\n",
              "\n",
              "  .colab-df-quickchart-complete:disabled,\n",
              "  .colab-df-quickchart-complete:disabled:hover {\n",
              "    background-color: var(--disabled-bg-color);\n",
              "    fill: var(--disabled-fill-color);\n",
              "    box-shadow: none;\n",
              "  }\n",
              "\n",
              "  .colab-df-spinner {\n",
              "    border: 2px solid var(--fill-color);\n",
              "    border-color: transparent;\n",
              "    border-bottom-color: var(--fill-color);\n",
              "    animation:\n",
              "      spin 1s steps(1) infinite;\n",
              "  }\n",
              "\n",
              "  @keyframes spin {\n",
              "    0% {\n",
              "      border-color: transparent;\n",
              "      border-bottom-color: var(--fill-color);\n",
              "      border-left-color: var(--fill-color);\n",
              "    }\n",
              "    20% {\n",
              "      border-color: transparent;\n",
              "      border-left-color: var(--fill-color);\n",
              "      border-top-color: var(--fill-color);\n",
              "    }\n",
              "    30% {\n",
              "      border-color: transparent;\n",
              "      border-left-color: var(--fill-color);\n",
              "      border-top-color: var(--fill-color);\n",
              "      border-right-color: var(--fill-color);\n",
              "    }\n",
              "    40% {\n",
              "      border-color: transparent;\n",
              "      border-right-color: var(--fill-color);\n",
              "      border-top-color: var(--fill-color);\n",
              "    }\n",
              "    60% {\n",
              "      border-color: transparent;\n",
              "      border-right-color: var(--fill-color);\n",
              "    }\n",
              "    80% {\n",
              "      border-color: transparent;\n",
              "      border-right-color: var(--fill-color);\n",
              "      border-bottom-color: var(--fill-color);\n",
              "    }\n",
              "    90% {\n",
              "      border-color: transparent;\n",
              "      border-bottom-color: var(--fill-color);\n",
              "    }\n",
              "  }\n",
              "</style>\n",
              "\n",
              "  <script>\n",
              "    async function quickchart(key) {\n",
              "      const quickchartButtonEl =\n",
              "        document.querySelector('#' + key + ' button');\n",
              "      quickchartButtonEl.disabled = true;  // To prevent multiple clicks.\n",
              "      quickchartButtonEl.classList.add('colab-df-spinner');\n",
              "      try {\n",
              "        const charts = await google.colab.kernel.invokeFunction(\n",
              "            'suggestCharts', [key], {});\n",
              "      } catch (error) {\n",
              "        console.error('Error during call to suggestCharts:', error);\n",
              "      }\n",
              "      quickchartButtonEl.classList.remove('colab-df-spinner');\n",
              "      quickchartButtonEl.classList.add('colab-df-quickchart-complete');\n",
              "    }\n",
              "    (() => {\n",
              "      let quickchartButtonEl =\n",
              "        document.querySelector('#df-9158ca69-6826-4732-a541-8a2bdd625c71 button');\n",
              "      quickchartButtonEl.style.display =\n",
              "        google.colab.kernel.accessAllowed ? 'block' : 'none';\n",
              "    })();\n",
              "  </script>\n",
              "</div>\n",
              "\n",
              "  <div id=\"id_f759c23e-ce12-42d5-b471-25e4bf10c80c\">\n",
              "    <style>\n",
              "      .colab-df-generate {\n",
              "        background-color: #E8F0FE;\n",
              "        border: none;\n",
              "        border-radius: 50%;\n",
              "        cursor: pointer;\n",
              "        display: none;\n",
              "        fill: #1967D2;\n",
              "        height: 32px;\n",
              "        padding: 0 0 0 0;\n",
              "        width: 32px;\n",
              "      }\n",
              "\n",
              "      .colab-df-generate:hover {\n",
              "        background-color: #E2EBFA;\n",
              "        box-shadow: 0px 1px 2px rgba(60, 64, 67, 0.3), 0px 1px 3px 1px rgba(60, 64, 67, 0.15);\n",
              "        fill: #174EA6;\n",
              "      }\n",
              "\n",
              "      [theme=dark] .colab-df-generate {\n",
              "        background-color: #3B4455;\n",
              "        fill: #D2E3FC;\n",
              "      }\n",
              "\n",
              "      [theme=dark] .colab-df-generate:hover {\n",
              "        background-color: #434B5C;\n",
              "        box-shadow: 0px 1px 3px 1px rgba(0, 0, 0, 0.15);\n",
              "        filter: drop-shadow(0px 1px 2px rgba(0, 0, 0, 0.3));\n",
              "        fill: #FFFFFF;\n",
              "      }\n",
              "    </style>\n",
              "    <button class=\"colab-df-generate\" onclick=\"generateWithVariable('models_training_time_1')\"\n",
              "            title=\"Generate code using this dataframe.\"\n",
              "            style=\"display:none;\">\n",
              "\n",
              "  <svg xmlns=\"http://www.w3.org/2000/svg\" height=\"24px\"viewBox=\"0 0 24 24\"\n",
              "       width=\"24px\">\n",
              "    <path d=\"M7,19H8.4L18.45,9,17,7.55,7,17.6ZM5,21V16.75L18.45,3.32a2,2,0,0,1,2.83,0l1.4,1.43a1.91,1.91,0,0,1,.58,1.4,1.91,1.91,0,0,1-.58,1.4L9.25,21ZM18.45,9,17,7.55Zm-12,3A5.31,5.31,0,0,0,4.9,8.1,5.31,5.31,0,0,0,1,6.5,5.31,5.31,0,0,0,4.9,4.9,5.31,5.31,0,0,0,6.5,1,5.31,5.31,0,0,0,8.1,4.9,5.31,5.31,0,0,0,12,6.5,5.46,5.46,0,0,0,6.5,12Z\"/>\n",
              "  </svg>\n",
              "    </button>\n",
              "    <script>\n",
              "      (() => {\n",
              "      const buttonEl =\n",
              "        document.querySelector('#id_f759c23e-ce12-42d5-b471-25e4bf10c80c button.colab-df-generate');\n",
              "      buttonEl.style.display =\n",
              "        google.colab.kernel.accessAllowed ? 'block' : 'none';\n",
              "\n",
              "      buttonEl.onclick = () => {\n",
              "        google.colab.notebook.generateWithVariable('models_training_time_1');\n",
              "      }\n",
              "      })();\n",
              "    </script>\n",
              "  </div>\n",
              "\n",
              "    </div>\n",
              "  </div>\n"
            ],
            "application/vnd.google.colaboratory.intrinsic+json": {
              "type": "dataframe",
              "variable_name": "models_training_time_1",
              "summary": "{\n  \"name\": \"models_training_time_1\",\n  \"rows\": 4,\n  \"fields\": [\n    {\n      \"column\": \"Model Name\",\n      \"properties\": {\n        \"dtype\": \"string\",\n        \"num_unique_values\": 4,\n        \"samples\": [\n          \"DecisionTreeClassifier\",\n          \"XGBClassifier\",\n          \"KNeighborsClassifier\"\n        ],\n        \"semantic_type\": \"\",\n        \"description\": \"\"\n      }\n    },\n    {\n      \"column\": \"Time\",\n      \"properties\": {\n        \"dtype\": \"number\",\n        \"std\": 0.9310209924115059,\n        \"min\": 0.0040624141693115,\n        \"max\": 1.9604153633117676,\n        \"num_unique_values\": 4,\n        \"samples\": [\n          0.0354759693145751,\n          1.9604153633117676,\n          0.0040624141693115\n        ],\n        \"semantic_type\": \"\",\n        \"description\": \"\"\n      }\n    }\n  ]\n}"
            }
          },
          "metadata": {},
          "execution_count": 21
        }
      ]
    },
    {
      "cell_type": "code",
      "source": [
        "knn_time = models_training_time_1['Time'].iloc[0]\n",
        "dt_time = models_training_time_1['Time'].iloc[1]\n",
        "rf_time = models_training_time_1['Time'].iloc[2]\n",
        "xgb_time = models_training_time_1['Time'].iloc[3]"
      ],
      "metadata": {
        "id": "ZnQZWPrMWuiR"
      },
      "execution_count": null,
      "outputs": []
    },
    {
      "cell_type": "markdown",
      "source": [
        "## Data Plotting"
      ],
      "metadata": {
        "id": "GIyLFrHNSbqK"
      }
    },
    {
      "cell_type": "code",
      "source": [
        "models = ['K Nearest Neighbor', 'Decision Tree', 'Random Forest', 'XGBoost']\n",
        "training_time = [knn_time, dt_time, rf_time, xgb_time]\n",
        "test_accuracy = [knn_test_acc, dt_test_acc, rf_test_acc, acc_test_xgb]\n",
        "validation_accuracy = [knn_val_acc, dt_val_acc, rf_val_acc, xgb_val_acc]\n",
        "\n",
        "\n",
        "# Creating a dataframe\n",
        "data = {'Model': models, 'Training Time (s)': training_time, 'Test Accuracy': test_accuracy, 'Validation Accuracy': validation_accuracy}\n",
        "df = pd.DataFrame(data)\n",
        "df"
      ],
      "metadata": {
        "execution": {
          "iopub.status.busy": "2024-03-11T21:12:10.925352Z",
          "iopub.execute_input": "2024-03-11T21:12:10.925678Z",
          "iopub.status.idle": "2024-03-11T21:12:10.940038Z",
          "shell.execute_reply.started": "2024-03-11T21:12:10.925626Z",
          "shell.execute_reply": "2024-03-11T21:12:10.938984Z"
        },
        "trusted": true,
        "id": "e7iVsCQIbhIj",
        "colab": {
          "base_uri": "https://localhost:8080/",
          "height": 175
        },
        "outputId": "3bc8eaf0-11fa-459c-945a-0431c8c85605"
      },
      "execution_count": null,
      "outputs": [
        {
          "output_type": "execute_result",
          "data": {
            "text/plain": [
              "                Model  Training Time (s)  Test Accuracy  Validation Accuracy\n",
              "0  K Nearest Neighbor           0.004062       0.811024             0.823529\n",
              "1       Decision Tree           0.035476       0.893701             0.882353\n",
              "2       Random Forest           0.321845       0.905512             0.882353\n",
              "3             XGBoost           1.960415       0.905512             0.931373"
            ],
            "text/html": [
              "\n",
              "  <div id=\"df-fb2386cc-7952-416d-8714-3e8c1e092375\" class=\"colab-df-container\">\n",
              "    <div>\n",
              "<style scoped>\n",
              "    .dataframe tbody tr th:only-of-type {\n",
              "        vertical-align: middle;\n",
              "    }\n",
              "\n",
              "    .dataframe tbody tr th {\n",
              "        vertical-align: top;\n",
              "    }\n",
              "\n",
              "    .dataframe thead th {\n",
              "        text-align: right;\n",
              "    }\n",
              "</style>\n",
              "<table border=\"1\" class=\"dataframe\">\n",
              "  <thead>\n",
              "    <tr style=\"text-align: right;\">\n",
              "      <th></th>\n",
              "      <th>Model</th>\n",
              "      <th>Training Time (s)</th>\n",
              "      <th>Test Accuracy</th>\n",
              "      <th>Validation Accuracy</th>\n",
              "    </tr>\n",
              "  </thead>\n",
              "  <tbody>\n",
              "    <tr>\n",
              "      <th>0</th>\n",
              "      <td>K Nearest Neighbor</td>\n",
              "      <td>0.004062</td>\n",
              "      <td>0.811024</td>\n",
              "      <td>0.823529</td>\n",
              "    </tr>\n",
              "    <tr>\n",
              "      <th>1</th>\n",
              "      <td>Decision Tree</td>\n",
              "      <td>0.035476</td>\n",
              "      <td>0.893701</td>\n",
              "      <td>0.882353</td>\n",
              "    </tr>\n",
              "    <tr>\n",
              "      <th>2</th>\n",
              "      <td>Random Forest</td>\n",
              "      <td>0.321845</td>\n",
              "      <td>0.905512</td>\n",
              "      <td>0.882353</td>\n",
              "    </tr>\n",
              "    <tr>\n",
              "      <th>3</th>\n",
              "      <td>XGBoost</td>\n",
              "      <td>1.960415</td>\n",
              "      <td>0.905512</td>\n",
              "      <td>0.931373</td>\n",
              "    </tr>\n",
              "  </tbody>\n",
              "</table>\n",
              "</div>\n",
              "    <div class=\"colab-df-buttons\">\n",
              "\n",
              "  <div class=\"colab-df-container\">\n",
              "    <button class=\"colab-df-convert\" onclick=\"convertToInteractive('df-fb2386cc-7952-416d-8714-3e8c1e092375')\"\n",
              "            title=\"Convert this dataframe to an interactive table.\"\n",
              "            style=\"display:none;\">\n",
              "\n",
              "  <svg xmlns=\"http://www.w3.org/2000/svg\" height=\"24px\" viewBox=\"0 -960 960 960\">\n",
              "    <path d=\"M120-120v-720h720v720H120Zm60-500h600v-160H180v160Zm220 220h160v-160H400v160Zm0 220h160v-160H400v160ZM180-400h160v-160H180v160Zm440 0h160v-160H620v160ZM180-180h160v-160H180v160Zm440 0h160v-160H620v160Z\"/>\n",
              "  </svg>\n",
              "    </button>\n",
              "\n",
              "  <style>\n",
              "    .colab-df-container {\n",
              "      display:flex;\n",
              "      gap: 12px;\n",
              "    }\n",
              "\n",
              "    .colab-df-convert {\n",
              "      background-color: #E8F0FE;\n",
              "      border: none;\n",
              "      border-radius: 50%;\n",
              "      cursor: pointer;\n",
              "      display: none;\n",
              "      fill: #1967D2;\n",
              "      height: 32px;\n",
              "      padding: 0 0 0 0;\n",
              "      width: 32px;\n",
              "    }\n",
              "\n",
              "    .colab-df-convert:hover {\n",
              "      background-color: #E2EBFA;\n",
              "      box-shadow: 0px 1px 2px rgba(60, 64, 67, 0.3), 0px 1px 3px 1px rgba(60, 64, 67, 0.15);\n",
              "      fill: #174EA6;\n",
              "    }\n",
              "\n",
              "    .colab-df-buttons div {\n",
              "      margin-bottom: 4px;\n",
              "    }\n",
              "\n",
              "    [theme=dark] .colab-df-convert {\n",
              "      background-color: #3B4455;\n",
              "      fill: #D2E3FC;\n",
              "    }\n",
              "\n",
              "    [theme=dark] .colab-df-convert:hover {\n",
              "      background-color: #434B5C;\n",
              "      box-shadow: 0px 1px 3px 1px rgba(0, 0, 0, 0.15);\n",
              "      filter: drop-shadow(0px 1px 2px rgba(0, 0, 0, 0.3));\n",
              "      fill: #FFFFFF;\n",
              "    }\n",
              "  </style>\n",
              "\n",
              "    <script>\n",
              "      const buttonEl =\n",
              "        document.querySelector('#df-fb2386cc-7952-416d-8714-3e8c1e092375 button.colab-df-convert');\n",
              "      buttonEl.style.display =\n",
              "        google.colab.kernel.accessAllowed ? 'block' : 'none';\n",
              "\n",
              "      async function convertToInteractive(key) {\n",
              "        const element = document.querySelector('#df-fb2386cc-7952-416d-8714-3e8c1e092375');\n",
              "        const dataTable =\n",
              "          await google.colab.kernel.invokeFunction('convertToInteractive',\n",
              "                                                    [key], {});\n",
              "        if (!dataTable) return;\n",
              "\n",
              "        const docLinkHtml = 'Like what you see? Visit the ' +\n",
              "          '<a target=\"_blank\" href=https://colab.research.google.com/notebooks/data_table.ipynb>data table notebook</a>'\n",
              "          + ' to learn more about interactive tables.';\n",
              "        element.innerHTML = '';\n",
              "        dataTable['output_type'] = 'display_data';\n",
              "        await google.colab.output.renderOutput(dataTable, element);\n",
              "        const docLink = document.createElement('div');\n",
              "        docLink.innerHTML = docLinkHtml;\n",
              "        element.appendChild(docLink);\n",
              "      }\n",
              "    </script>\n",
              "  </div>\n",
              "\n",
              "\n",
              "<div id=\"df-97187c3b-4712-42da-84ce-24e30c633c55\">\n",
              "  <button class=\"colab-df-quickchart\" onclick=\"quickchart('df-97187c3b-4712-42da-84ce-24e30c633c55')\"\n",
              "            title=\"Suggest charts\"\n",
              "            style=\"display:none;\">\n",
              "\n",
              "<svg xmlns=\"http://www.w3.org/2000/svg\" height=\"24px\"viewBox=\"0 0 24 24\"\n",
              "     width=\"24px\">\n",
              "    <g>\n",
              "        <path d=\"M19 3H5c-1.1 0-2 .9-2 2v14c0 1.1.9 2 2 2h14c1.1 0 2-.9 2-2V5c0-1.1-.9-2-2-2zM9 17H7v-7h2v7zm4 0h-2V7h2v10zm4 0h-2v-4h2v4z\"/>\n",
              "    </g>\n",
              "</svg>\n",
              "  </button>\n",
              "\n",
              "<style>\n",
              "  .colab-df-quickchart {\n",
              "      --bg-color: #E8F0FE;\n",
              "      --fill-color: #1967D2;\n",
              "      --hover-bg-color: #E2EBFA;\n",
              "      --hover-fill-color: #174EA6;\n",
              "      --disabled-fill-color: #AAA;\n",
              "      --disabled-bg-color: #DDD;\n",
              "  }\n",
              "\n",
              "  [theme=dark] .colab-df-quickchart {\n",
              "      --bg-color: #3B4455;\n",
              "      --fill-color: #D2E3FC;\n",
              "      --hover-bg-color: #434B5C;\n",
              "      --hover-fill-color: #FFFFFF;\n",
              "      --disabled-bg-color: #3B4455;\n",
              "      --disabled-fill-color: #666;\n",
              "  }\n",
              "\n",
              "  .colab-df-quickchart {\n",
              "    background-color: var(--bg-color);\n",
              "    border: none;\n",
              "    border-radius: 50%;\n",
              "    cursor: pointer;\n",
              "    display: none;\n",
              "    fill: var(--fill-color);\n",
              "    height: 32px;\n",
              "    padding: 0;\n",
              "    width: 32px;\n",
              "  }\n",
              "\n",
              "  .colab-df-quickchart:hover {\n",
              "    background-color: var(--hover-bg-color);\n",
              "    box-shadow: 0 1px 2px rgba(60, 64, 67, 0.3), 0 1px 3px 1px rgba(60, 64, 67, 0.15);\n",
              "    fill: var(--button-hover-fill-color);\n",
              "  }\n",
              "\n",
              "  .colab-df-quickchart-complete:disabled,\n",
              "  .colab-df-quickchart-complete:disabled:hover {\n",
              "    background-color: var(--disabled-bg-color);\n",
              "    fill: var(--disabled-fill-color);\n",
              "    box-shadow: none;\n",
              "  }\n",
              "\n",
              "  .colab-df-spinner {\n",
              "    border: 2px solid var(--fill-color);\n",
              "    border-color: transparent;\n",
              "    border-bottom-color: var(--fill-color);\n",
              "    animation:\n",
              "      spin 1s steps(1) infinite;\n",
              "  }\n",
              "\n",
              "  @keyframes spin {\n",
              "    0% {\n",
              "      border-color: transparent;\n",
              "      border-bottom-color: var(--fill-color);\n",
              "      border-left-color: var(--fill-color);\n",
              "    }\n",
              "    20% {\n",
              "      border-color: transparent;\n",
              "      border-left-color: var(--fill-color);\n",
              "      border-top-color: var(--fill-color);\n",
              "    }\n",
              "    30% {\n",
              "      border-color: transparent;\n",
              "      border-left-color: var(--fill-color);\n",
              "      border-top-color: var(--fill-color);\n",
              "      border-right-color: var(--fill-color);\n",
              "    }\n",
              "    40% {\n",
              "      border-color: transparent;\n",
              "      border-right-color: var(--fill-color);\n",
              "      border-top-color: var(--fill-color);\n",
              "    }\n",
              "    60% {\n",
              "      border-color: transparent;\n",
              "      border-right-color: var(--fill-color);\n",
              "    }\n",
              "    80% {\n",
              "      border-color: transparent;\n",
              "      border-right-color: var(--fill-color);\n",
              "      border-bottom-color: var(--fill-color);\n",
              "    }\n",
              "    90% {\n",
              "      border-color: transparent;\n",
              "      border-bottom-color: var(--fill-color);\n",
              "    }\n",
              "  }\n",
              "</style>\n",
              "\n",
              "  <script>\n",
              "    async function quickchart(key) {\n",
              "      const quickchartButtonEl =\n",
              "        document.querySelector('#' + key + ' button');\n",
              "      quickchartButtonEl.disabled = true;  // To prevent multiple clicks.\n",
              "      quickchartButtonEl.classList.add('colab-df-spinner');\n",
              "      try {\n",
              "        const charts = await google.colab.kernel.invokeFunction(\n",
              "            'suggestCharts', [key], {});\n",
              "      } catch (error) {\n",
              "        console.error('Error during call to suggestCharts:', error);\n",
              "      }\n",
              "      quickchartButtonEl.classList.remove('colab-df-spinner');\n",
              "      quickchartButtonEl.classList.add('colab-df-quickchart-complete');\n",
              "    }\n",
              "    (() => {\n",
              "      let quickchartButtonEl =\n",
              "        document.querySelector('#df-97187c3b-4712-42da-84ce-24e30c633c55 button');\n",
              "      quickchartButtonEl.style.display =\n",
              "        google.colab.kernel.accessAllowed ? 'block' : 'none';\n",
              "    })();\n",
              "  </script>\n",
              "</div>\n",
              "\n",
              "  <div id=\"id_b7526abb-29fc-4421-8ba0-b0c90af34c71\">\n",
              "    <style>\n",
              "      .colab-df-generate {\n",
              "        background-color: #E8F0FE;\n",
              "        border: none;\n",
              "        border-radius: 50%;\n",
              "        cursor: pointer;\n",
              "        display: none;\n",
              "        fill: #1967D2;\n",
              "        height: 32px;\n",
              "        padding: 0 0 0 0;\n",
              "        width: 32px;\n",
              "      }\n",
              "\n",
              "      .colab-df-generate:hover {\n",
              "        background-color: #E2EBFA;\n",
              "        box-shadow: 0px 1px 2px rgba(60, 64, 67, 0.3), 0px 1px 3px 1px rgba(60, 64, 67, 0.15);\n",
              "        fill: #174EA6;\n",
              "      }\n",
              "\n",
              "      [theme=dark] .colab-df-generate {\n",
              "        background-color: #3B4455;\n",
              "        fill: #D2E3FC;\n",
              "      }\n",
              "\n",
              "      [theme=dark] .colab-df-generate:hover {\n",
              "        background-color: #434B5C;\n",
              "        box-shadow: 0px 1px 3px 1px rgba(0, 0, 0, 0.15);\n",
              "        filter: drop-shadow(0px 1px 2px rgba(0, 0, 0, 0.3));\n",
              "        fill: #FFFFFF;\n",
              "      }\n",
              "    </style>\n",
              "    <button class=\"colab-df-generate\" onclick=\"generateWithVariable('df')\"\n",
              "            title=\"Generate code using this dataframe.\"\n",
              "            style=\"display:none;\">\n",
              "\n",
              "  <svg xmlns=\"http://www.w3.org/2000/svg\" height=\"24px\"viewBox=\"0 0 24 24\"\n",
              "       width=\"24px\">\n",
              "    <path d=\"M7,19H8.4L18.45,9,17,7.55,7,17.6ZM5,21V16.75L18.45,3.32a2,2,0,0,1,2.83,0l1.4,1.43a1.91,1.91,0,0,1,.58,1.4,1.91,1.91,0,0,1-.58,1.4L9.25,21ZM18.45,9,17,7.55Zm-12,3A5.31,5.31,0,0,0,4.9,8.1,5.31,5.31,0,0,0,1,6.5,5.31,5.31,0,0,0,4.9,4.9,5.31,5.31,0,0,0,6.5,1,5.31,5.31,0,0,0,8.1,4.9,5.31,5.31,0,0,0,12,6.5,5.46,5.46,0,0,0,6.5,12Z\"/>\n",
              "  </svg>\n",
              "    </button>\n",
              "    <script>\n",
              "      (() => {\n",
              "      const buttonEl =\n",
              "        document.querySelector('#id_b7526abb-29fc-4421-8ba0-b0c90af34c71 button.colab-df-generate');\n",
              "      buttonEl.style.display =\n",
              "        google.colab.kernel.accessAllowed ? 'block' : 'none';\n",
              "\n",
              "      buttonEl.onclick = () => {\n",
              "        google.colab.notebook.generateWithVariable('df');\n",
              "      }\n",
              "      })();\n",
              "    </script>\n",
              "  </div>\n",
              "\n",
              "    </div>\n",
              "  </div>\n"
            ],
            "application/vnd.google.colaboratory.intrinsic+json": {
              "type": "dataframe",
              "variable_name": "df",
              "summary": "{\n  \"name\": \"df\",\n  \"rows\": 4,\n  \"fields\": [\n    {\n      \"column\": \"Model\",\n      \"properties\": {\n        \"dtype\": \"string\",\n        \"num_unique_values\": 4,\n        \"samples\": [\n          \"Decision Tree\",\n          \"XGBoost\",\n          \"K Nearest Neighbor\"\n        ],\n        \"semantic_type\": \"\",\n        \"description\": \"\"\n      }\n    },\n    {\n      \"column\": \"Training Time (s)\",\n      \"properties\": {\n        \"dtype\": \"number\",\n        \"std\": 0.9310209924115059,\n        \"min\": 0.0040624141693115,\n        \"max\": 1.9604153633117676,\n        \"num_unique_values\": 4,\n        \"samples\": [\n          0.0354759693145751,\n          1.9604153633117676,\n          0.0040624141693115\n        ],\n        \"semantic_type\": \"\",\n        \"description\": \"\"\n      }\n    },\n    {\n      \"column\": \"Test Accuracy\",\n      \"properties\": {\n        \"dtype\": \"number\",\n        \"std\": 0.04561665443408055,\n        \"min\": 0.8110236220472441,\n        \"max\": 0.905511811023622,\n        \"num_unique_values\": 3,\n        \"samples\": [\n          0.8110236220472441,\n          0.8937007874015748,\n          0.905511811023622\n        ],\n        \"semantic_type\": \"\",\n        \"description\": \"\"\n      }\n    },\n    {\n      \"column\": \"Validation Accuracy\",\n      \"properties\": {\n        \"dtype\": \"number\",\n        \"std\": 0.04411764705882355,\n        \"min\": 0.8235294117647058,\n        \"max\": 0.9313725490196079,\n        \"num_unique_values\": 3,\n        \"samples\": [\n          0.8235294117647058,\n          0.8823529411764706,\n          0.9313725490196079\n        ],\n        \"semantic_type\": \"\",\n        \"description\": \"\"\n      }\n    }\n  ]\n}"
            }
          },
          "metadata": {},
          "execution_count": 23
        }
      ]
    },
    {
      "cell_type": "code",
      "source": [
        "df['Model'].tolist()"
      ],
      "metadata": {
        "colab": {
          "base_uri": "https://localhost:8080/"
        },
        "id": "De8Trv4Qo8Zs",
        "outputId": "0db8d82e-1760-41c7-fc2e-814f6cad5ff2"
      },
      "execution_count": null,
      "outputs": [
        {
          "output_type": "execute_result",
          "data": {
            "text/plain": [
              "['K Nearest Neighbor', 'Decision Tree', 'Random Forest', 'XGBoost']"
            ]
          },
          "metadata": {},
          "execution_count": 24
        }
      ]
    },
    {
      "cell_type": "code",
      "source": [
        "# Visualizing the data\n",
        "import matplotlib.pyplot as plt\n",
        "plt.figure(figsize=(10, 6))\n",
        "\n",
        "# Plotting training time\n",
        "plt.subplot(1, 2, 1)\n",
        "plt.bar(df['Model'], df['Training Time (s)'], color='skyblue')\n",
        "plt.title('Training Time')\n",
        "plt.xlabel('Model')\n",
        "plt.ylabel('Time (s)')\n",
        "plt.xticks(rotation=45)\n",
        "\n",
        "# Plotting test and validation accuracy\n",
        "plt.subplot(1, 2, 2)\n",
        "plt.plot(df['Model'], df['Test Accuracy'], marker='o', label='Test Accuracy')\n",
        "plt.plot(df['Model'], df['Validation Accuracy'], marker='o', label='Validation Accuracy')\n",
        "plt.title('Test and Validation Accuracy')\n",
        "plt.xlabel('Model')\n",
        "plt.ylabel('Accuracy')\n",
        "plt.xticks(rotation=45)\n",
        "plt.legend()\n",
        "\n",
        "plt.tight_layout()\n",
        "plt.show()"
      ],
      "metadata": {
        "execution": {
          "iopub.status.busy": "2024-03-11T21:12:10.941360Z",
          "iopub.execute_input": "2024-03-11T21:12:10.941762Z",
          "iopub.status.idle": "2024-03-11T21:12:11.492003Z",
          "shell.execute_reply.started": "2024-03-11T21:12:10.941724Z",
          "shell.execute_reply": "2024-03-11T21:12:11.491069Z"
        },
        "trusted": true,
        "id": "vQxyKfIpbhIm",
        "colab": {
          "base_uri": "https://localhost:8080/",
          "height": 607
        },
        "outputId": "f994d222-afff-4808-e04a-a92cb92945ff"
      },
      "execution_count": null,
      "outputs": [
        {
          "output_type": "display_data",
          "data": {
            "text/plain": [
              "<Figure size 1000x600 with 2 Axes>"
            ],
            "image/png": "[encoded data removed]"
          },
          "metadata": {}
        }
      ]
    }
  ]
}